{
 "cells": [
  {
   "cell_type": "markdown",
   "id": "e612495b",
   "metadata": {},
   "source": [
    "## Gradient Decent"
   ]
  },
  {
   "cell_type": "markdown",
   "id": "eb98f414",
   "metadata": {},
   "source": [
    "This notebook covers gradient decent and how things work under the hood.\n",
    "\n",
    "This notebook will cover the math as well as the function that one needs to understand how gradient decent works"
   ]
  },
  {
   "cell_type": "code",
   "execution_count": null,
   "id": "a3d05a64",
   "metadata": {
    "vscode": {
     "languageId": "plaintext"
    }
   },
   "outputs": [],
   "source": []
  }
 ],
 "metadata": {
  "language_info": {
   "name": "python"
  }
 },
 "nbformat": 4,
 "nbformat_minor": 5
}
